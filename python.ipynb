{
 "cells": [
  {
   "cell_type": "code",
   "execution_count": 19,
   "id": "57b8c759-0e4f-43b0-8960-edf84fcbc3bc",
   "metadata": {},
   "outputs": [
    {
     "name": "stdout",
     "output_type": "stream",
     "text": [
      "hello\n",
      "23\n"
     ]
    }
   ],
   "source": [
    "l=[[1,2,\"mouni\",\"hello\"],[\"hii\",23,\"huughh\"]]\n",
    "print(l[0][3])\n",
    "print(l[1][1])"
   ]
  },
  {
   "cell_type": "code",
   "execution_count": 1,
   "id": "ca705bbe-4654-4939-adc7-025bcd2b829f",
   "metadata": {},
   "outputs": [
    {
     "name": "stdout",
     "output_type": "stream",
     "text": [
      "1\n"
     ]
    }
   ],
   "source": [
    "l=[1,2,45,19,18]\n",
    "min=l[0]\n",
    "for i in l:\n",
    "    if(i<min):\n",
    "        min=l[i]\n",
    "print(min)"
   ]
  },
  {
   "cell_type": "code",
   "execution_count": 1,
   "id": "86048fe5-4157-474c-a743-221c60c5f6dd",
   "metadata": {},
   "outputs": [
    {
     "name": "stdout",
     "output_type": "stream",
     "text": [
      "[34.67, 5, 2, 1]\n"
     ]
    }
   ],
   "source": [
    "list=[1,2,5,34.67]\n",
    "sorted_lst = sorted(list, reverse=True)\n",
    "print(sorted_lst)"
   ]
  },
  {
   "cell_type": "code",
   "execution_count": 22,
   "id": "5e212473-47e3-45c4-b7d6-1a3d949a5aad",
   "metadata": {},
   "outputs": [
    {
     "name": "stdout",
     "output_type": "stream",
     "text": [
      "{'hello': 'monee', 'monee': 'kya karthi haiii'}\n",
      "this is used with keyword arguments\n"
     ]
    }
   ],
   "source": [
    "def function(**kwargs):\n",
    "    \"\"\"this is used with keyword arguments\"\"\"\n",
    "    print(kwargs)\n",
    "    print(function.__doc__)\n",
    "function(hello=\"monee\",monee=\"kya karthi haiii\")"
   ]
  },
  {
   "cell_type": "code",
   "execution_count": 5,
   "id": "9feb2608-27b2-4a12-b1ca-175b833dae15",
   "metadata": {},
   "outputs": [
    {
     "name": "stdout",
     "output_type": "stream",
     "text": [
      "this is function inside a function\n"
     ]
    }
   ],
   "source": [
    "def f2():\n",
    "    def f1():\n",
    "        print(\"this is function inside a function\")\n",
    "    f1()\n",
    "f2()"
   ]
  },
  {
   "cell_type": "code",
   "execution_count": 7,
   "id": "4cfdbb63-91dd-4327-8376-1f70634870f9",
   "metadata": {},
   "outputs": [
    {
     "name": "stdout",
     "output_type": "stream",
     "text": [
      "120\n"
     ]
    }
   ],
   "source": [
    "z=lambda x,y:x*y\n",
    "print(z(12,10))"
   ]
  },
  {
   "cell_type": "code",
   "execution_count": 11,
   "id": "8552be98-8149-4480-a819-49978aba37e9",
   "metadata": {},
   "outputs": [
    {
     "name": "stdout",
     "output_type": "stream",
     "text": [
      "5040\n"
     ]
    }
   ],
   "source": [
    "def fact(n):\n",
    "    if(n<=1):\n",
    "        return n\n",
    "    else:\n",
    "        return n*fact(n-1)\n",
    "print(fact(7))"
   ]
  },
  {
   "cell_type": "code",
   "execution_count": 14,
   "id": "5f60ff7e-d20e-4d40-91e6-394e08921d8f",
   "metadata": {},
   "outputs": [
    {
     "name": "stdout",
     "output_type": "stream",
     "text": [
      "good morninghello\n"
     ]
    }
   ],
   "source": [
    "s=\"good morning\"\n",
    "def f1():\n",
    "    global s\n",
    "    s+=\"hello\"\n",
    "    print(s)\n",
    "f1()"
   ]
  },
  {
   "cell_type": "code",
   "execution_count": 39,
   "id": "23bc28cd-ab84-46c9-b898-1f52c314f4b4",
   "metadata": {},
   "outputs": [],
   "source": [
    "file=\"hello.txt\"\n",
    "with open(file, 'w') as f:\n",
    "    f.write(\"hi\\nhello\\nmaplelabs\\nwelcome\")\n",
    "\n"
   ]
  },
  {
   "cell_type": "code",
   "execution_count": 41,
   "id": "0e4f946a-4747-4957-bc38-bc023e37587e",
   "metadata": {},
   "outputs": [
    {
     "name": "stdout",
     "output_type": "stream",
     "text": [
      "hi\n",
      "\n",
      "hello\n",
      "\n",
      "maplelabs\n",
      "\n",
      "welcome\n"
     ]
    }
   ],
   "source": [
    "f=open(file,\"r\")\n",
    "for i in f.readlines():\n",
    "    print(i)"
   ]
  },
  {
   "cell_type": "code",
   "execution_count": 293,
   "id": "8d83bcb3-a03d-42a1-b65b-0f73518cc001",
   "metadata": {},
   "outputs": [],
   "source": [
    "with open(\"file2.txt\",\"w\") as f:\n",
    "    f.write(\"2024-08-25 10:15:23 INFO Starting the application\\n2024-08-25 10:16:45 WARN Low memory warning\\n2024-08-25 10:17:10 ERROR Unable to connect to database\\n2024-08-25 10:20:00 INFO Application shutdown\\n2024-08-25 10:21:30 INFO Backup completed successfully\\n\")\n",
    "    "
   ]
  },
  {
   "cell_type": "code",
   "execution_count": 294,
   "id": "c9c84bb9-f1c6-428e-8560-b065bd421c87",
   "metadata": {},
   "outputs": [
    {
     "name": "stdout",
     "output_type": "stream",
     "text": [
      "1 . 2024-08-25 10:15:23 INFO Starting the application\n",
      " 50 6\n",
      "2 . 2024-08-25 10:16:45 WARN Low memory warning\n",
      " 44 6\n",
      "3 . 2024-08-25 10:17:10 ERROR Unable to connect to database\n",
      " 56 8\n",
      "4 . 2024-08-25 10:20:00 INFO Application shutdown\n",
      " 46 5\n",
      "5 . 2024-08-25 10:21:30 INFO Backup completed successfully\n",
      " 55 6\n",
      "total number of lines: 5\n"
     ]
    }
   ],
   "source": [
    "f=open(\"file2.txt\",\"r\")\n",
    "count=0\n",
    "count_char=0\n",
    "x=f.readlines()\n",
    "for i in x:\n",
    "    count+=1\n",
    "    print(count,\".\",i,len(i),len(i.split()))\n",
    "print(\"total number of lines:\",count)"
   ]
  },
  {
   "cell_type": "code",
   "execution_count": 295,
   "id": "d0000eb8-7b13-400e-b847-4e0467eea6b9",
   "metadata": {},
   "outputs": [
    {
     "name": "stdout",
     "output_type": "stream",
     "text": [
      "10:15:23\n",
      "10:16:45\n",
      "10:17:10\n",
      "10:20:00\n",
      "10:21:30\n"
     ]
    }
   ],
   "source": [
    "for i in x:\n",
    "    z=i.split()\n",
    "    print(z[1])\n",
    "    \n",
    "   \n",
    "    "
   ]
  },
  {
   "cell_type": "code",
   "execution_count": 303,
   "id": "a0a08cea-ecbb-48c4-8b29-fae2418c5e9b",
   "metadata": {},
   "outputs": [
    {
     "name": "stdout",
     "output_type": "stream",
     "text": [
      "{'10:15:23': 'Starting the application', '10:16:45': 'Low memory warning', '10:17:10': 'Unable to connect to database', '10:20:00': 'Application shutdown', '10:21:30': 'Backup completed successfully'}\n"
     ]
    }
   ],
   "source": [
    "timestamp=[]\n",
    "error=[]\n",
    "dict={}\n",
    "for i in x:\n",
    "    z=i.split()\n",
    "    timestamp.append(z[1])\n",
    "    error.append(\" \".join(z[3:]))\n",
    "for i in range(len(timestamp)):\n",
    "    dict[timestamp[i]]=error[i]\n",
    "print(dict)\n",
    "    "
   ]
  },
  {
   "cell_type": "code",
   "execution_count": 305,
   "id": "bb707e37-70f5-4b86-b743-44f8f19b7295",
   "metadata": {},
   "outputs": [
    {
     "name": "stdout",
     "output_type": "stream",
     "text": [
      "Unable to connect to database\n"
     ]
    }
   ],
   "source": [
    "ns=\"10:17:10\"\n",
    "print(dict[ns])"
   ]
  },
  {
   "cell_type": "code",
   "execution_count": 1,
   "id": "9e63d1b9-4d04-436b-8bd0-ffd4176083e4",
   "metadata": {},
   "outputs": [
    {
     "name": "stdout",
     "output_type": "stream",
     "text": [
      "*               * \n",
      "* *           * * \n",
      "*   *       *   * \n",
      "*     *   *     * \n",
      "*       *       * \n",
      "*               * \n",
      "*               * \n",
      "*               * \n",
      "*               * \n"
     ]
    }
   ],
   "source": [
    "n=9\n",
    "for i in range(n):\n",
    "    for j in range(n):\n",
    "        if(j==0 or j==n-1):\n",
    "            print(\"*\",end=\" \")\n",
    "        elif(i<=n//2 and j==i or i<=n//2 and i+j==n-1):\n",
    "            print(\"*\",end=\" \")\n",
    "        else:\n",
    "            print(\" \",end=\" \")\n",
    "    print()"
   ]
  },
  {
   "cell_type": "code",
   "execution_count": 3,
   "id": "b8f5d2e2-1308-400b-aa03-f9deb631046a",
   "metadata": {},
   "outputs": [
    {
     "name": "stdin",
     "output_type": "stream",
     "text": [
      "enter a number 6\n"
     ]
    },
    {
     "name": "stdout",
     "output_type": "stream",
     "text": [
      "     *\n",
      "    ***\n",
      "   *****\n",
      "  *******\n",
      " *********\n",
      "***********\n"
     ]
    }
   ],
   "source": [
    "n=int(input(\"enter a number\"))\n",
    "for i in range(1, n+1):\n",
    "    print(\" \"* (n-i) + \"*\"* (2*i-1))"
   ]
  },
  {
   "cell_type": "code",
   "execution_count": 5,
   "id": "5d599c37-5f9a-416d-9dbb-762b210eacab",
   "metadata": {},
   "outputs": [
    {
     "name": "stdin",
     "output_type": "stream",
     "text": [
      "enter a month 4\n",
      "entera year 2024\n"
     ]
    },
    {
     "name": "stdout",
     "output_type": "stream",
     "text": [
      "false\n"
     ]
    }
   ],
   "source": [
    "import datetime\n",
    "month=int(input(\"enter a month\"))\n",
    "year=int(input(\"entera year\"))\n",
    "dt=datetime.date(year,month,13)\n",
    "dday=dt.weekday()\n",
    "if(dday==4):\n",
    "    print(\"true\")\n",
    "else:\n",
    "    print(\"false\")"
   ]
  },
  {
   "cell_type": "code",
   "execution_count": 10,
   "id": "056b36de-ba4b-4999-a1a3-bb47c4bc0d60",
   "metadata": {},
   "outputs": [],
   "source": [
    "data={\"car\":{\"name\":\"swift\",\"year\":\"2020\",\"color\":[\"white\",\"black\"],\"bus\":{\"name\":\"volvo\",\"year\":\"2010\",\"color\":{\"white\":\"brown\"}}}}"
   ]
  },
  {
   "cell_type": "code",
   "execution_count": 11,
   "id": "c194f0e4-3c74-4a78-9fe1-f161d8e19465",
   "metadata": {},
   "outputs": [
    {
     "name": "stdout",
     "output_type": "stream",
     "text": [
      "{'car': {'name': 'swift', 'year': '2020', 'color': ['white', 'black'], 'bus': {'name': 'volvo', 'year': '2010', 'color': {'white': 'brown'}}, 'truck': {'name': 'mouni', 'year': 2021, 'color': []}}}\n"
     ]
    }
   ],
   "source": [
    "data[\"car\"][\"truck\"]={\"name\":\"mouni\",\"year\":2021,\"color\":[]}\n",
    "print(data)"
   ]
  },
  {
   "cell_type": "code",
   "execution_count": 12,
   "id": "d4560b4a-d110-4fbf-9364-335baa876e31",
   "metadata": {},
   "outputs": [
    {
     "name": "stdout",
     "output_type": "stream",
     "text": [
      "{'car': {'name': 'swift', 'year': '2020', 'color': ['white', 'black'], 'bus': {'name': 'volvo', 'year': '2010', 'color': {'white': 'brown'}}, 'truck': {'name': 'mouni', 'year': 2021, 'color': ['pink', 'white']}}}\n"
     ]
    }
   ],
   "source": [
    "data[\"car\"][\"truck\"][\"color\"]=[\"pink\",\"white\"]\n",
    "print(data)\n"
   ]
  },
  {
   "cell_type": "code",
   "execution_count": 13,
   "id": "5c9c8f5b-c19a-40cc-aa7d-a3aa4584747d",
   "metadata": {},
   "outputs": [
    {
     "name": "stdout",
     "output_type": "stream",
     "text": [
      "{'swift': '2001', 'zen': '2002', 'baleno': '2013'}\n"
     ]
    }
   ],
   "source": [
    "name=[\"swift\",\"zen\",\"baleno\"]\n",
    "model=[\"2001\",\"2002\",\"2013\"]\n",
    "d=dict(zip(name,model))\n",
    "print(d)"
   ]
  },
  {
   "cell_type": "code",
   "execution_count": 14,
   "id": "9c7fcf61-7ece-4fce-a0c6-97ee29b1cf0b",
   "metadata": {},
   "outputs": [
    {
     "name": "stdout",
     "output_type": "stream",
     "text": [
      "{'swift': '2001', 'zen': '2002', 'baleno': '2013'}\n"
     ]
    }
   ],
   "source": [
    "name=[\"swift\",\"zen\",\"baleno\"]\n",
    "model=[\"2001\",\"2002\",\"2013\"]\n",
    "dict={}\n",
    "for i in range(len(name)):\n",
    "    dict[name[i]]=model[i]\n",
    "print(dict)"
   ]
  },
  {
   "cell_type": "code",
   "execution_count": 15,
   "id": "5c41cc1a-9d30-46cd-bd5d-85a86085c659",
   "metadata": {},
   "outputs": [
    {
     "name": "stdout",
     "output_type": "stream",
     "text": [
      "0\n"
     ]
    }
   ],
   "source": [
    "def sum1(a):\n",
    "    s = 0\n",
    "    if type(a)==int:\n",
    "        s+=a\n",
    "    elif type(a) == dict:\n",
    "        for i in a.values():\n",
    "            s+=sum1(i)\n",
    "    return s\n",
    "        \n",
    "mixed_dict = {\n",
    "    \"key1\": 5,\n",
    "    \"key2\": {\"key3\": 3, \"key4\": {\"key5\": 7, \"key6\": 10}},\n",
    "    \"key7\": 2,\n",
    "}\n",
    "print(sum1(mixed_dict))"
   ]
  },
  {
   "cell_type": "code",
   "execution_count": 7,
   "id": "183e2d4d-3aa2-4a2e-a22a-21ffdd7ee53f",
   "metadata": {},
   "outputs": [
    {
     "name": "stdout",
     "output_type": "stream",
     "text": [
      "{'A': {'B': 4, 'C': 10}, 'D': {'E': 6, 'F': {'G': 12, 'H': 3}}, 'I': 7}\n"
     ]
    }
   ],
   "source": [
    "di = {\n",
    "'A': {'B': 4, 'C': 10},\n",
    " 'D': {'E': 6, 'F': {'G': 12, 'H': 3}}, \n",
    "'I':7\n",
    "}\n",
    "def dele(di):\n",
    "    keys=list(di.keys())\n",
    "    for key in keys:\n",
    "        value=di[key]\n",
    "        if(type(value) == int):\n",
    "            if(value<=5):\n",
    "                del di[key]\n",
    "        else:\n",
    "            del(value)\n",
    "    print(di)\n",
    "dele(di)"
   ]
  },
  {
   "cell_type": "code",
   "execution_count": 8,
   "id": "75dc2b34-0b86-483e-974d-5a1eae553d5a",
   "metadata": {},
   "outputs": [
    {
     "name": "stdout",
     "output_type": "stream",
     "text": [
      "11\n"
     ]
    }
   ],
   "source": [
    "mixed_dict = {\n",
    "    \"key1\": 5,\n",
    "    \"key2\": 4,          \n",
    "    \"key7\": 2,\n",
    "}\n",
    "sum=0\n",
    "for key,value in mixed_dict.items():\n",
    "    sum+=value\n",
    "print(sum)"
   ]
  },
  {
   "cell_type": "code",
   "execution_count": 9,
   "id": "d1d825f0-96cd-48ab-b470-4c9c102ed532",
   "metadata": {},
   "outputs": [
    {
     "name": "stdout",
     "output_type": "stream",
     "text": [
      "{'A': {'w': '5', 'x': '5'}, 'B': {'y': '5'}, 'C': {'z': '5'}}\n"
     ]
    }
   ],
   "source": [
    "d1 = {'A': {'w': '1', 'x': '2'}, 'B': {'y': '4'}, 'C': {'z': '5'}}\n",
    "d2 = {'A': {'w': '4', 'x': '3'}, 'B': {'y': '1'}, 'C': {'z': '0'}}\n",
    "\n",
    "d3 = {}\n",
    "\n",
    "for i in d1:\n",
    "    d3[i] = {}\n",
    "    for j in d1[i]:\n",
    "        d3[i][j] = str(int(d1[i][j]) + int(d2[i][j]))\n",
    "\n",
    "print(d3)"
   ]
  },
  {
   "cell_type": "code",
   "execution_count": null,
   "id": "dee9046a-cc23-4003-bb16-e92ad40d177c",
   "metadata": {},
   "outputs": [],
   "source": []
  }
 ],
 "metadata": {
  "kernelspec": {
   "display_name": "Python 3 (ipykernel)",
   "language": "python",
   "name": "python3"
  },
  "language_info": {
   "codemirror_mode": {
    "name": "ipython",
    "version": 3
   },
   "file_extension": ".py",
   "mimetype": "text/x-python",
   "name": "python",
   "nbconvert_exporter": "python",
   "pygments_lexer": "ipython3",
   "version": "3.12.3"
  }
 },
 "nbformat": 4,
 "nbformat_minor": 5
}
